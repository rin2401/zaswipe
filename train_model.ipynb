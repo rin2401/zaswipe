{
 "cells": [
  {
   "cell_type": "code",
   "execution_count": 151,
   "metadata": {},
   "outputs": [],
   "source": [
    "import cv2,os\n",
    "import numpy as np\n",
    "\n",
    "def crop_img(id, index):\n",
    "    if not os.path.exists(f'images/{id}.jpg'):\n",
    "        return []\n",
    "    img = cv2.imread(f'images/{id}.jpg')\n",
    "    img = cv2.cvtColor(img, cv2.COLOR_BGR2GRAY)\n",
    "#     except:\n",
    "#         return []\n",
    "#     img = cv2.adaptiveThreshold(img,255,cv2.ADAPTIVE_THRESH_GAUSSIAN_C, cv2.THRESH_BINARY,11,2)\n",
    "\n",
    "    W = 400\n",
    "    H = 820\n",
    "\n",
    "    sw=65\n",
    "    rects = [\n",
    "        (122, 7),\n",
    "        (192, 7),\n",
    "        (262, 7),\n",
    "        (122, W-72),\n",
    "        (192, W-72),\n",
    "        (262, W-72),\n",
    "    ]\n",
    "    \n",
    "    images = [[] for i in range(7)]\n",
    "    pad = np.random.randint(1,5)\n",
    "#     pxy = [(pad,-pad), (pad,pad), (-pad,pad), (-pad,-pad)]\n",
    "    pxy = [(0,pad),(0,-pad),(pad,0),(pad,-pad), (pad,pad), (-pad,0), (-pad,pad), (-pad,-pad)]\n",
    "    \n",
    "    for i, (x,y) in enumerate(rects):\n",
    "        for px,py in pxy:\n",
    "#             px, py = pxy[np.random.randint(4)]\n",
    "            img_crop = img[x+px:x+sw+px, y+py:y+sw+py]\n",
    "            images[i].append(img_crop)\n",
    "        \n",
    "    cw = 100\n",
    "    cx, cy = (H-cw)//2 + 10, (W-cw)//2\n",
    "    pad = np.random.randint(1, 10)\n",
    "    pxy = [(0,pad),(0,-pad),(pad,0),(pad,-pad), (pad,pad), (-pad,0), (-pad,pad), (-pad,-pad)]\n",
    "    for px,py in pxy:\n",
    "#         px, py = pxy[np.random.randint(4)]\n",
    "        img_crop = img[cx+px:cx+cw+px, cy+py:cy+cw+py]\n",
    "        img_crop = cv2.resize(img_crop, (sw, sw))\n",
    "        images[6].append(img_crop)\n",
    "    return images[index]"
   ]
  },
  {
   "cell_type": "code",
   "execution_count": null,
   "metadata": {},
   "outputs": [],
   "source": []
  },
  {
   "cell_type": "code",
   "execution_count": 152,
   "metadata": {},
   "outputs": [],
   "source": [
    "# !proxy pip install opencv-python\n",
    "# !proxy pip install matplotlib"
   ]
  },
  {
   "cell_type": "code",
   "execution_count": 153,
   "metadata": {},
   "outputs": [],
   "source": [
    "# np.random.uniform(low=0.9, high=1.1)"
   ]
  },
  {
   "cell_type": "code",
   "execution_count": 154,
   "metadata": {},
   "outputs": [
    {
     "name": "stdout",
     "output_type": "stream",
     "text": [
      "0 label/cheo\n",
      "1 label/diacau\n",
      "2 label/muiten\n",
      "3 label/sach\n",
      "4 label/tamgiac\n",
      "5 label/tinnhan\n",
      "6 label/trong\n"
     ]
    }
   ],
   "source": [
    "import os\n",
    "import cv2\n",
    "images, labels = [], []\n",
    "for yy, folder in enumerate(os.listdir(\"label/\")):\n",
    "    folder = os.path.join(\"label\", folder)\n",
    "    print(yy, folder)\n",
    "    for file in os.listdir(folder):\n",
    "        if file[-3:]!=\"jpg\": continue\n",
    "        file = os.path.join(folder, file)\n",
    "        image = cv2.imread(file)\n",
    "#         print(file)\n",
    "\n",
    "        DIR, name = os.path.split(file)\n",
    "        raw_id, index = name.split(\".\")[0].split(\"_\")\n",
    "\n",
    "        image = cv2.cvtColor(image, cv2.COLOR_BGR2GRAY)\n",
    "#         image = cv2.adaptiveThreshold(image,255,cv2.ADAPTIVE_THRESH_GAUSSIAN_C, cv2.THRESH_BINARY,11,2)\n",
    "        \n",
    "        h,w = image.shape[:2]\n",
    "        center = (w / 2, h / 2)\n",
    "        if index==\"6\":\n",
    "            for i, angle in enumerate([90, 180, 270]):\n",
    "                scale = np.random.uniform(low=0.9, high=0.99)\n",
    "                M = cv2.getRotationMatrix2D(center, angle, scale)\n",
    "                new_img = cv2.warpAffine(image, M, (w, h))\n",
    "                images.append(new_img)\n",
    "                labels.append(yy)\n",
    "                scale = np.random.uniform(low=1.01, high=1.1)\n",
    "                M = cv2.getRotationMatrix2D(center, angle, scale)\n",
    "                new_img = cv2.warpAffine(image, M, (w, h))\n",
    "                images.append(new_img)\n",
    "                labels.append(yy)\n",
    "                M = cv2.getRotationMatrix2D(center, angle, 1)\n",
    "                new_img = cv2.warpAffine(image, M, (w, h))\n",
    "                images.append(new_img)\n",
    "                labels.append(yy)\n",
    "                \n",
    "#         plt.imshow(image, cmap='gray')\n",
    "#         plt.show()\n",
    "        images.append(image)\n",
    "        labels.append(yy)\n",
    "        arg_images = crop_img(raw_id, int(index))\n",
    "#         print(len(arg_images),raw_id, index)\n",
    "        images += arg_images\n",
    "        labels += [yy]*len(arg_images)\n",
    "#         plt.imshow(arg_images[0], cmap='gray')\n",
    "#         plt.show()"
   ]
  },
  {
   "cell_type": "code",
   "execution_count": 155,
   "metadata": {},
   "outputs": [
    {
     "data": {
      "text/plain": [
       "Counter({0: 1458, 1: 1853, 2: 1829, 3: 2044, 4: 1908, 5: 1377, 6: 873})"
      ]
     },
     "execution_count": 155,
     "metadata": {},
     "output_type": "execute_result"
    }
   ],
   "source": [
    "from collections import Counter\n",
    "Counter(labels)"
   ]
  },
  {
   "cell_type": "code",
   "execution_count": 156,
   "metadata": {},
   "outputs": [],
   "source": [
    "# image_crops = crop_img(983, 6)\n",
    "# for image_crop in image_crops:\n",
    "#     plt.imshow(image_crop, cmap='gray')\n",
    "#     plt.show()"
   ]
  },
  {
   "cell_type": "code",
   "execution_count": 157,
   "metadata": {},
   "outputs": [
    {
     "name": "stdout",
     "output_type": "stream",
     "text": [
      "(11342, 65, 65)\n"
     ]
    },
    {
     "data": {
      "text/plain": [
       "<matplotlib.image.AxesImage at 0x7f6a65b27080>"
      ]
     },
     "execution_count": 157,
     "metadata": {},
     "output_type": "execute_result"
    },
    {
     "data": {
      "image/png": "[encoded data removed]",
      "text/plain": [
       "<Figure size 432x288 with 1 Axes>"
      ]
     },
     "metadata": {
      "needs_background": "light"
     },
     "output_type": "display_data"
    }
   ],
   "source": [
    "import numpy as np\n",
    "import matplotlib.pyplot as plt\n",
    "images = np.asarray(images)\n",
    "print(images.shape)\n",
    "images = images/255\n",
    "labels = np.asarray(labels)\n",
    "plt.imshow(X_train[27], cmap='gray')"
   ]
  },
  {
   "cell_type": "code",
   "execution_count": null,
   "metadata": {},
   "outputs": [],
   "source": []
  },
  {
   "cell_type": "code",
   "execution_count": 158,
   "metadata": {},
   "outputs": [],
   "source": [
    "from sklearn.model_selection import train_test_split\n",
    "X_train, X_test, y_train, y_test = train_test_split(images, labels, test_size=0.2, random_state=0)"
   ]
  },
  {
   "cell_type": "code",
   "execution_count": 168,
   "metadata": {},
   "outputs": [
    {
     "name": "stdout",
     "output_type": "stream",
     "text": [
      "Model: \"model_21\"\n",
      "_________________________________________________________________\n",
      "Layer (type)                 Output Shape              Param #   \n",
      "=================================================================\n",
      "input_22 (InputLayer)        [(None, 65, 65)]          0         \n",
      "_________________________________________________________________\n",
      "lambda_21 (Lambda)           (None, 65, 65, 1)         0         \n",
      "_________________________________________________________________\n",
      "conv2d_13 (Conv2D)           (None, 61, 61, 32)        832       \n",
      "_________________________________________________________________\n",
      "max_pooling2d_13 (MaxPooling (None, 30, 30, 32)        0         \n",
      "_________________________________________________________________\n",
      "conv2d_14 (Conv2D)           (None, 26, 26, 32)        25632     \n",
      "_________________________________________________________________\n",
      "max_pooling2d_14 (MaxPooling (None, 13, 13, 32)        0         \n",
      "_________________________________________________________________\n",
      "flatten_21 (Flatten)         (None, 5408)              0         \n",
      "_________________________________________________________________\n",
      "dense_21 (Dense)             (None, 100)               540900    \n",
      "_________________________________________________________________\n",
      "dropout_4 (Dropout)          (None, 100)               0         \n",
      "_________________________________________________________________\n",
      "dense_22 (Dense)             (None, 7)                 707       \n",
      "=================================================================\n",
      "Total params: 568,071\n",
      "Trainable params: 568,071\n",
      "Non-trainable params: 0\n",
      "_________________________________________________________________\n"
     ]
    }
   ],
   "source": [
    "import tensorflow as tf\n",
    "from tensorflow.keras.models import Model\n",
    "from tensorflow.keras.layers import Dense, Conv2D, Flatten, Input, Lambda, MaxPooling2D, Dropout\n",
    "from tensorflow.keras.optimizers import Adam\n",
    "\n",
    "\n",
    "inputs = Input(shape=(65,65))\n",
    "\n",
    "xx = Lambda(lambda x: tf.expand_dims(x,axis=-1))(inputs)\n",
    "xx = Conv2D(filters=32, kernel_size=[5,5], activation='relu')(xx)\n",
    "xx = MaxPooling2D(pool_size=(2,2))(xx)\n",
    "xx = Conv2D(filters=32, kernel_size=[5,5], activation='relu')(xx)\n",
    "xx = MaxPooling2D(pool_size=(2,2))(xx)\n",
    "# xx = Conv2D(filters=32, kernel_size=[5,5], activation='relu')(xx)\n",
    "# xx = MaxPooling2D(pool_size=(2,2))(xx)\n",
    "xx = Flatten()(xx)\n",
    "xx = Dense(units=100, activation='relu')(xx)\n",
    "xx = Dropout(rate=0.5)(xx)\n",
    "outputs = Dense(units=7, activation='softmax')(xx)\n",
    "model = Model(inputs=inputs, outputs=outputs)\n",
    "model.compile(optimizer=Adam(0.005),\n",
    "             loss=\"sparse_categorical_crossentropy\",\n",
    "             metrics=['accuracy'])\n",
    "model.summary()"
   ]
  },
  {
   "cell_type": "code",
   "execution_count": 169,
   "metadata": {},
   "outputs": [
    {
     "name": "stdout",
     "output_type": "stream",
     "text": [
      "Train on 9073 samples, validate on 2269 samples\n",
      "Epoch 1/1000\n",
      "9073/9073 [==============================] - 11s 1ms/sample - loss: 1.4984 - acc: 0.4209 - val_loss: 0.6806 - val_acc: 0.7920\n",
      "Epoch 2/1000\n",
      "9073/9073 [==============================] - 10s 1ms/sample - loss: 0.5844 - acc: 0.8081 - val_loss: 0.2707 - val_acc: 0.9123\n",
      "Epoch 3/1000\n",
      "9073/9073 [==============================] - 9s 1ms/sample - loss: 0.3193 - acc: 0.8924 - val_loss: 0.1851 - val_acc: 0.9396\n",
      "Epoch 4/1000\n",
      "9073/9073 [==============================] - 9s 992us/sample - loss: 0.2282 - acc: 0.9209 - val_loss: 0.1282 - val_acc: 0.9564\n",
      "Epoch 5/1000\n",
      "9073/9073 [==============================] - 9s 994us/sample - loss: 0.2056 - acc: 0.9252 - val_loss: 0.1448 - val_acc: 0.9550\n",
      "Epoch 6/1000\n",
      "9073/9073 [==============================] - 9s 976us/sample - loss: 0.1639 - acc: 0.9419 - val_loss: 0.0908 - val_acc: 0.9714\n",
      "Epoch 7/1000\n",
      "9073/9073 [==============================] - 9s 991us/sample - loss: 0.1175 - acc: 0.9602 - val_loss: 0.0623 - val_acc: 0.9784\n",
      "Epoch 8/1000\n",
      "9073/9073 [==============================] - 9s 1ms/sample - loss: 0.0934 - acc: 0.9657 - val_loss: 0.0608 - val_acc: 0.9802\n",
      "Epoch 9/1000\n",
      "9073/9073 [==============================] - 9s 1ms/sample - loss: 0.1028 - acc: 0.9603 - val_loss: 0.0667 - val_acc: 0.9824\n",
      "Epoch 10/1000\n",
      "9073/9073 [==============================] - 9s 1ms/sample - loss: 0.0893 - acc: 0.9686 - val_loss: 0.0597 - val_acc: 0.9806\n",
      "Epoch 11/1000\n",
      "9073/9073 [==============================] - 9s 1ms/sample - loss: 0.0899 - acc: 0.9659 - val_loss: 0.0385 - val_acc: 0.9881\n",
      "Epoch 12/1000\n",
      "9073/9073 [==============================] - 9s 1ms/sample - loss: 0.0666 - acc: 0.9756 - val_loss: 0.0396 - val_acc: 0.9881\n",
      "Epoch 13/1000\n",
      "9073/9073 [==============================] - 9s 1ms/sample - loss: 0.0562 - acc: 0.9777 - val_loss: 0.0782 - val_acc: 0.9793\n",
      "Epoch 14/1000\n",
      "9073/9073 [==============================] - 9s 1ms/sample - loss: 0.0653 - acc: 0.9744 - val_loss: 0.0320 - val_acc: 0.9912\n",
      "Epoch 15/1000\n",
      "9073/9073 [==============================] - 9s 1ms/sample - loss: 0.0619 - acc: 0.9755 - val_loss: 0.0333 - val_acc: 0.9894\n",
      "Epoch 16/1000\n",
      "9073/9073 [==============================] - 9s 1ms/sample - loss: 0.0476 - acc: 0.9826 - val_loss: 0.0292 - val_acc: 0.9916\n",
      "Epoch 17/1000\n",
      "9073/9073 [==============================] - 9s 1ms/sample - loss: 0.0385 - acc: 0.9862 - val_loss: 0.0244 - val_acc: 0.9929\n",
      "Epoch 18/1000\n",
      "9073/9073 [==============================] - 9s 1ms/sample - loss: 0.0504 - acc: 0.9819 - val_loss: 0.0316 - val_acc: 0.9894\n",
      "Epoch 19/1000\n",
      "9073/9073 [==============================] - 9s 1ms/sample - loss: 0.0456 - acc: 0.9842 - val_loss: 0.0433 - val_acc: 0.9894\n",
      "Epoch 20/1000\n",
      "9073/9073 [==============================] - 9s 1ms/sample - loss: 0.0351 - acc: 0.9870 - val_loss: 0.0397 - val_acc: 0.9912\n",
      "Epoch 21/1000\n",
      "9073/9073 [==============================] - 9s 1ms/sample - loss: 0.0355 - acc: 0.9856 - val_loss: 0.0203 - val_acc: 0.9947\n",
      "Epoch 22/1000\n",
      "9073/9073 [==============================] - 9s 1ms/sample - loss: 0.0402 - acc: 0.9849 - val_loss: 0.0219 - val_acc: 0.9952\n",
      "Epoch 23/1000\n",
      "9073/9073 [==============================] - 9s 1ms/sample - loss: 0.0325 - acc: 0.9882 - val_loss: 0.0215 - val_acc: 0.9943\n",
      "Epoch 24/1000\n",
      "9073/9073 [==============================] - 9s 999us/sample - loss: 0.0252 - acc: 0.9901 - val_loss: 0.0222 - val_acc: 0.9938\n",
      "Epoch 25/1000\n",
      "9073/9073 [==============================] - 10s 1ms/sample - loss: 0.0306 - acc: 0.9881 - val_loss: 0.0253 - val_acc: 0.9934\n",
      "Epoch 26/1000\n",
      "9073/9073 [==============================] - 10s 1ms/sample - loss: 0.0615 - acc: 0.9787 - val_loss: 0.0310 - val_acc: 0.9903\n",
      "Epoch 27/1000\n",
      "9073/9073 [==============================] - 10s 1ms/sample - loss: 0.0345 - acc: 0.9872 - val_loss: 0.0210 - val_acc: 0.9943\n",
      "Epoch 28/1000\n",
      "9073/9073 [==============================] - 10s 1ms/sample - loss: 0.0313 - acc: 0.9871 - val_loss: 0.0177 - val_acc: 0.9934\n",
      "Epoch 29/1000\n",
      "8960/9073 [============================>.] - ETA: 0s - loss: 0.0269 - acc: 0.9900\n",
      "Epoch 00029: ReduceLROnPlateau reducing learning rate to 0.0024999999441206455.\n",
      "9073/9073 [==============================] - 10s 1ms/sample - loss: 0.0269 - acc: 0.9899 - val_loss: 0.0169 - val_acc: 0.9943\n",
      "Epoch 30/1000\n",
      "9073/9073 [==============================] - 10s 1ms/sample - loss: 0.0196 - acc: 0.9931 - val_loss: 0.0220 - val_acc: 0.9934\n",
      "Epoch 31/1000\n",
      "9073/9073 [==============================] - 10s 1ms/sample - loss: 0.0186 - acc: 0.9937 - val_loss: 0.0175 - val_acc: 0.9938\n",
      "Epoch 32/1000\n",
      "9073/9073 [==============================] - 9s 1ms/sample - loss: 0.0181 - acc: 0.9932 - val_loss: 0.0157 - val_acc: 0.9952\n",
      "Epoch 33/1000\n",
      "9073/9073 [==============================] - 9s 1ms/sample - loss: 0.0145 - acc: 0.9940 - val_loss: 0.0154 - val_acc: 0.9956\n",
      "Epoch 34/1000\n",
      "9073/9073 [==============================] - 9s 1ms/sample - loss: 0.0140 - acc: 0.9943 - val_loss: 0.0160 - val_acc: 0.9952\n",
      "Epoch 35/1000\n",
      "9073/9073 [==============================] - 9s 1ms/sample - loss: 0.0153 - acc: 0.9938 - val_loss: 0.0135 - val_acc: 0.9956\n",
      "Epoch 36/1000\n",
      "9073/9073 [==============================] - 9s 1ms/sample - loss: 0.0160 - acc: 0.9939 - val_loss: 0.0318 - val_acc: 0.9934\n",
      "Epoch 37/1000\n",
      "9073/9073 [==============================] - 10s 1ms/sample - loss: 0.0163 - acc: 0.9935 - val_loss: 0.0230 - val_acc: 0.9952\n",
      "Epoch 38/1000\n",
      "9073/9073 [==============================] - 10s 1ms/sample - loss: 0.0133 - acc: 0.9949 - val_loss: 0.0137 - val_acc: 0.9965\n",
      "Epoch 39/1000\n",
      "9073/9073 [==============================] - 10s 1ms/sample - loss: 0.0129 - acc: 0.9954 - val_loss: 0.0127 - val_acc: 0.9969\n",
      "Epoch 40/1000\n",
      "9073/9073 [==============================] - 9s 1ms/sample - loss: 0.0137 - acc: 0.9946 - val_loss: 0.0164 - val_acc: 0.9960\n",
      "Epoch 41/1000\n",
      "9073/9073 [==============================] - 9s 1ms/sample - loss: 0.0118 - acc: 0.9956 - val_loss: 0.0163 - val_acc: 0.9960\n",
      "Epoch 42/1000\n",
      "9073/9073 [==============================] - 10s 1ms/sample - loss: 0.0129 - acc: 0.9954 - val_loss: 0.0197 - val_acc: 0.9952\n",
      "Epoch 43/1000\n",
      "9073/9073 [==============================] - 10s 1ms/sample - loss: 0.0132 - acc: 0.9946 - val_loss: 0.0132 - val_acc: 0.9965\n",
      "Epoch 44/1000\n",
      "9073/9073 [==============================] - 10s 1ms/sample - loss: 0.0152 - acc: 0.9939 - val_loss: 0.0126 - val_acc: 0.9978\n",
      "Epoch 45/1000\n",
      "9073/9073 [==============================] - 10s 1ms/sample - loss: 0.0135 - acc: 0.9949 - val_loss: 0.0142 - val_acc: 0.9969\n",
      "Epoch 46/1000\n",
      "8960/9073 [============================>.] - ETA: 0s - loss: 0.0120 - acc: 0.9952\n",
      "Epoch 00046: ReduceLROnPlateau reducing learning rate to 0.0012499999720603228.\n",
      "9073/9073 [==============================] - 10s 1ms/sample - loss: 0.0119 - acc: 0.9952 - val_loss: 0.0348 - val_acc: 0.9943\n",
      "Epoch 47/1000\n",
      "9073/9073 [==============================] - 10s 1ms/sample - loss: 0.0140 - acc: 0.9947 - val_loss: 0.0137 - val_acc: 0.9974\n",
      "Epoch 48/1000\n",
      "9073/9073 [==============================] - 10s 1ms/sample - loss: 0.0142 - acc: 0.9945 - val_loss: 0.0297 - val_acc: 0.9947\n",
      "Epoch 49/1000\n",
      "9073/9073 [==============================] - 9s 1ms/sample - loss: 0.0117 - acc: 0.9952 - val_loss: 0.0140 - val_acc: 0.9974\n",
      "Epoch 50/1000\n",
      "9073/9073 [==============================] - 9s 1ms/sample - loss: 0.0101 - acc: 0.9963 - val_loss: 0.0233 - val_acc: 0.9956\n",
      "Epoch 51/1000\n",
      "9073/9073 [==============================] - 9s 1ms/sample - loss: 0.0116 - acc: 0.9953 - val_loss: 0.0151 - val_acc: 0.9978\n",
      "Epoch 52/1000\n",
      "9073/9073 [==============================] - 9s 1ms/sample - loss: 0.0117 - acc: 0.9955 - val_loss: 0.0148 - val_acc: 0.9974\n",
      "Epoch 53/1000\n",
      "9073/9073 [==============================] - 9s 1ms/sample - loss: 0.0111 - acc: 0.9957 - val_loss: 0.0159 - val_acc: 0.9965\n",
      "Epoch 54/1000\n",
      "9073/9073 [==============================] - 9s 1ms/sample - loss: 0.0098 - acc: 0.9957 - val_loss: 0.0175 - val_acc: 0.9974\n",
      "Epoch 55/1000\n",
      "9073/9073 [==============================] - 9s 1ms/sample - loss: 0.0093 - acc: 0.9963 - val_loss: 0.0164 - val_acc: 0.9974\n",
      "Epoch 56/1000\n",
      "9073/9073 [==============================] - 9s 1ms/sample - loss: 0.0080 - acc: 0.9969 - val_loss: 0.0224 - val_acc: 0.9956\n",
      "Epoch 57/1000\n",
      "9073/9073 [==============================] - 9s 1ms/sample - loss: 0.0099 - acc: 0.9959 - val_loss: 0.0146 - val_acc: 0.9965\n",
      "Epoch 58/1000\n",
      "9073/9073 [==============================] - 9s 1ms/sample - loss: 0.0084 - acc: 0.9964 - val_loss: 0.0127 - val_acc: 0.9978\n",
      "Epoch 59/1000\n",
      "9073/9073 [==============================] - 10s 1ms/sample - loss: 0.0098 - acc: 0.9963 - val_loss: 0.0132 - val_acc: 0.9978\n",
      "Epoch 60/1000\n",
      "9073/9073 [==============================] - 9s 1ms/sample - loss: 0.0104 - acc: 0.9959 - val_loss: 0.0153 - val_acc: 0.9965\n",
      "Epoch 61/1000\n",
      "9073/9073 [==============================] - 9s 1ms/sample - loss: 0.0057 - acc: 0.9982 - val_loss: 0.0173 - val_acc: 0.9960\n",
      "Epoch 62/1000\n",
      "9073/9073 [==============================] - 9s 1ms/sample - loss: 0.0091 - acc: 0.9964 - val_loss: 0.0175 - val_acc: 0.9956\n",
      "Epoch 63/1000\n",
      "9073/9073 [==============================] - 9s 1ms/sample - loss: 0.0077 - acc: 0.9970 - val_loss: 0.0139 - val_acc: 0.9965\n",
      "Epoch 64/1000\n",
      "9073/9073 [==============================] - 10s 1ms/sample - loss: 0.0088 - acc: 0.9964 - val_loss: 0.0171 - val_acc: 0.9974\n",
      "Epoch 65/1000\n",
      "9073/9073 [==============================] - 9s 1ms/sample - loss: 0.0086 - acc: 0.9967 - val_loss: 0.0184 - val_acc: 0.9965\n",
      "Restoring from best checkpoint...\n"
     ]
    },
    {
     "data": {
      "text/plain": [
       "<tensorflow.python.keras.callbacks.History at 0x7f6a6594bfd0>"
      ]
     },
     "execution_count": 169,
     "metadata": {},
     "output_type": "execute_result"
    }
   ],
   "source": [
    "from tensorflow.keras.callbacks import Callback\n",
    "import tensorflow as tf\n",
    "\n",
    "class CheckPoint(Callback):\n",
    "    \n",
    "    def __init__(self, early_stopping=5):\n",
    "        self.best_top10 = 0.0\n",
    "        self.n_no_improvements = 0\n",
    "        self.early_stopping = early_stopping\n",
    "    def on_epoch_end(self, epoch, logs=None):\n",
    "        if logs['val_acc'] > self.best_top10:\n",
    "            self.best_top10 = logs['val_acc']\n",
    "            self.best_params = self.model.get_weights()\n",
    "            self.n_no_improvements = 0\n",
    "        else:\n",
    "            self.n_no_improvements += 1\n",
    "            if self.n_no_improvements > self.early_stopping:\n",
    "                self.model.stop_training = True\n",
    "    def on_train_end(self,logs=None):\n",
    "        print(\"Restoring from best checkpoint...\")\n",
    "        self.model.set_weights(self.best_params)\n",
    "\n",
    "ckpt = CheckPoint()\n",
    "reduce_lr = tf.keras.callbacks.ReduceLROnPlateau(\n",
    "    monitor='loss', factor=0.5, patience=5, verbose=1, mode='auto',\n",
    "    min_delta=0.0001, cooldown=0, min_lr=0.0001\n",
    ")\n",
    "model.fit(X_train, y_train, validation_data=(X_test, y_test), epochs=1000, batch_size=256, callbacks=[CheckPoint(early_stopping=20), reduce_lr], verbose=1)"
   ]
  },
  {
   "cell_type": "code",
   "execution_count": 170,
   "metadata": {},
   "outputs": [
    {
     "name": "stdout",
     "output_type": "stream",
     "text": [
      "2269/2269 [==============================] - 1s 245us/sample - loss: 0.0126 - acc: 0.9978\n"
     ]
    },
    {
     "data": {
      "text/plain": [
       "[0.012583728401582804, 0.99779636]"
      ]
     },
     "execution_count": 170,
     "metadata": {},
     "output_type": "execute_result"
    }
   ],
   "source": [
    "model.evaluate(X_test, y_test)"
   ]
  },
  {
   "cell_type": "code",
   "execution_count": 171,
   "metadata": {},
   "outputs": [
    {
     "name": "stdout",
     "output_type": "stream",
     "text": [
      "20 5 4\n"
     ]
    }
   ],
   "source": [
    "preds = model.predict(X_test)\n",
    "for i, (p, l) in enumerate(zip(preds.argmax(1), y_test)):\n",
    "    if p!=l:\n",
    "        print(i,p,l)\n",
    "        break"
   ]
  },
  {
   "cell_type": "code",
   "execution_count": 172,
   "metadata": {},
   "outputs": [
    {
     "name": "stdout",
     "output_type": "stream",
     "text": [
      "(11342, 65, 65)\n"
     ]
    },
    {
     "data": {
      "text/plain": [
       "<matplotlib.image.AxesImage at 0x7f6a658b7e10>"
      ]
     },
     "execution_count": 172,
     "metadata": {},
     "output_type": "execute_result"
    },
    {
     "data": {
      "image/png": "[encoded data removed]",
      "text/plain": [
       "<Figure size 432x288 with 1 Axes>"
      ]
     },
     "metadata": {
      "needs_background": "light"
     },
     "output_type": "display_data"
    }
   ],
   "source": [
    "import numpy as np\n",
    "import matplotlib.pyplot as plt\n",
    "images = np.asarray(images)\n",
    "print(images.shape)\n",
    "images = images/255\n",
    "labels = np.asarray(labels)\n",
    "plt.imshow(X_test[20], cmap='gray')"
   ]
  },
  {
   "cell_type": "code",
   "execution_count": 173,
   "metadata": {},
   "outputs": [],
   "source": [
    "model.save(\"model_v9.h5\", include_optimizer=False)"
   ]
  },
  {
   "cell_type": "code",
   "execution_count": null,
   "metadata": {},
   "outputs": [],
   "source": []
  },
  {
   "cell_type": "code",
   "execution_count": 90,
   "metadata": {},
   "outputs": [
    {
     "data": {
      "text/plain": [
       "27600"
      ]
     },
     "execution_count": 90,
     "metadata": {},
     "output_type": "execute_result"
    }
   ],
   "source": [
    "20*5*sum(range(24))"
   ]
  },
  {
   "cell_type": "code",
   "execution_count": 89,
   "metadata": {},
   "outputs": [
    {
     "data": {
      "text/plain": [
       "0.5454545454545454"
      ]
     },
     "execution_count": 89,
     "metadata": {},
     "output_type": "execute_result"
    }
   ],
   "source": [
    "60/(22*5)"
   ]
  },
  {
   "cell_type": "code",
   "execution_count": 91,
   "metadata": {},
   "outputs": [
    {
     "data": {
      "text/plain": [
       "20.0"
      ]
     },
     "execution_count": 91,
     "metadata": {},
     "output_type": "execute_result"
    }
   ],
   "source": [
    "1200/60"
   ]
  },
  {
   "cell_type": "code",
   "execution_count": null,
   "metadata": {},
   "outputs": [],
   "source": []
  }
 ],
 "metadata": {
  "kernelspec": {
   "display_name": "Python 3",
   "language": "python",
   "name": "python3"
  },
  "language_info": {
   "codemirror_mode": {
    "name": "ipython",
    "version": 3
   },
   "file_extension": ".py",
   "mimetype": "text/x-python",
   "name": "python",
   "nbconvert_exporter": "python",
   "pygments_lexer": "ipython3",
   "version": "3.6.1"
  }
 },
 "nbformat": 4,
 "nbformat_minor": 4
}
